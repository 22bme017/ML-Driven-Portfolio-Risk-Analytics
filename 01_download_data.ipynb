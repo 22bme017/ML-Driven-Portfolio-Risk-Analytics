{
 "cells": [
  {
   "cell_type": "code",
   "execution_count": 26,
   "id": "7a1d100c-db97-4720-8b70-af108ad0bd7b",
   "metadata": {},
   "outputs": [
    {
     "name": "stdout",
     "output_type": "stream",
     "text": [
      "Defaulting to user installation because normal site-packages is not writeable\n",
      "Requirement already satisfied: alpaca-py in c:\\users\\ayush\\appdata\\roaming\\python\\python311\\site-packages (0.40.1)\n",
      "Requirement already satisfied: msgpack<2.0.0,>=1.0.3 in c:\\users\\ayush\\appdata\\roaming\\python\\python311\\site-packages (from alpaca-py) (1.1.0)\n",
      "Requirement already satisfied: pandas>=1.5.3 in c:\\users\\ayush\\appdata\\roaming\\python\\python311\\site-packages (from alpaca-py) (2.2.3)\n",
      "Requirement already satisfied: pydantic<3.0.0,>=2.0.3 in c:\\users\\ayush\\appdata\\roaming\\python\\python311\\site-packages (from alpaca-py) (2.11.5)\n",
      "Requirement already satisfied: requests<3.0.0,>=2.30.0 in c:\\users\\ayush\\appdata\\roaming\\python\\python311\\site-packages (from alpaca-py) (2.32.3)\n",
      "Requirement already satisfied: sseclient-py<2.0.0,>=1.7.2 in c:\\users\\ayush\\appdata\\roaming\\python\\python311\\site-packages (from alpaca-py) (1.8.0)\n",
      "Requirement already satisfied: websockets>=10.4 in c:\\users\\ayush\\appdata\\roaming\\python\\python311\\site-packages (from alpaca-py) (13.1)\n",
      "Requirement already satisfied: numpy>=1.23.2 in c:\\users\\ayush\\appdata\\roaming\\python\\python311\\site-packages (from pandas>=1.5.3->alpaca-py) (1.26.4)\n",
      "Requirement already satisfied: python-dateutil>=2.8.2 in c:\\users\\ayush\\appdata\\roaming\\python\\python311\\site-packages (from pandas>=1.5.3->alpaca-py) (2.9.0.post0)\n",
      "Requirement already satisfied: pytz>=2020.1 in c:\\users\\ayush\\appdata\\roaming\\python\\python311\\site-packages (from pandas>=1.5.3->alpaca-py) (2024.1)\n",
      "Requirement already satisfied: tzdata>=2022.7 in c:\\users\\ayush\\appdata\\roaming\\python\\python311\\site-packages (from pandas>=1.5.3->alpaca-py) (2024.1)\n",
      "Requirement already satisfied: annotated-types>=0.6.0 in c:\\users\\ayush\\appdata\\roaming\\python\\python311\\site-packages (from pydantic<3.0.0,>=2.0.3->alpaca-py) (0.7.0)\n",
      "Requirement already satisfied: pydantic-core==2.33.2 in c:\\users\\ayush\\appdata\\roaming\\python\\python311\\site-packages (from pydantic<3.0.0,>=2.0.3->alpaca-py) (2.33.2)\n",
      "Requirement already satisfied: typing-extensions>=4.12.2 in c:\\users\\ayush\\appdata\\roaming\\python\\python311\\site-packages (from pydantic<3.0.0,>=2.0.3->alpaca-py) (4.12.2)\n",
      "Requirement already satisfied: typing-inspection>=0.4.0 in c:\\users\\ayush\\appdata\\roaming\\python\\python311\\site-packages (from pydantic<3.0.0,>=2.0.3->alpaca-py) (0.4.1)\n",
      "Requirement already satisfied: charset-normalizer<4,>=2 in c:\\users\\ayush\\appdata\\roaming\\python\\python311\\site-packages (from requests<3.0.0,>=2.30.0->alpaca-py) (3.4.1)\n",
      "Requirement already satisfied: idna<4,>=2.5 in c:\\users\\ayush\\appdata\\roaming\\python\\python311\\site-packages (from requests<3.0.0,>=2.30.0->alpaca-py) (3.10)\n",
      "Requirement already satisfied: urllib3<3,>=1.21.1 in c:\\users\\ayush\\appdata\\roaming\\python\\python311\\site-packages (from requests<3.0.0,>=2.30.0->alpaca-py) (2.3.0)\n",
      "Requirement already satisfied: certifi>=2017.4.17 in c:\\users\\ayush\\appdata\\roaming\\python\\python311\\site-packages (from requests<3.0.0,>=2.30.0->alpaca-py) (2025.1.31)\n",
      "Requirement already satisfied: six>=1.5 in c:\\users\\ayush\\appdata\\roaming\\python\\python311\\site-packages (from python-dateutil>=2.8.2->pandas>=1.5.3->alpaca-py) (1.17.0)\n"
     ]
    },
    {
     "name": "stderr",
     "output_type": "stream",
     "text": [
      "\n",
      "[notice] A new release of pip is available: 24.3.1 -> 25.1.1\n",
      "[notice] To update, run: python.exe -m pip install --upgrade pip\n"
     ]
    }
   ],
   "source": [
    "!pip install alpaca-py\n",
    "from alpaca.data.historical import StockHistoricalDataClient\n",
    "from alpaca.data.requests import StockBarsRequest\n",
    "from alpaca.data.timeframe import TimeFrame\n",
    "import pandas as pd\n",
    "import datetime\n",
    "import numpy as np\n",
    "import time\n"
   ]
  },
  {
   "cell_type": "code",
   "execution_count": 27,
   "id": "9beb9c85",
   "metadata": {},
   "outputs": [],
   "source": [
    "# ✅ Step 2: Set your API credentials\n",
    "API_KEY = \"PKW3AW0TU6XNQ32SHI20\"\n",
    "API_SECRET = \"lrH9p5SG9mtINYVutcNBA1RBcBi1vsOqOmsOs1SJ\"\n",
    "\n",
    "# ✅ Step 3: Initialize client\n",
    "client = StockHistoricalDataClient(API_KEY, API_SECRET)"
   ]
  },
  {
   "cell_type": "code",
   "execution_count": 28,
   "id": "6b6cc30c-8a5b-496d-81a7-35a525882cb5",
   "metadata": {},
   "outputs": [],
   "source": [
    "\n",
    "assets = [\n",
    "    # Tech\n",
    "    \"AAPL\", \"MSFT\", \"GOOG\", \"AMZN\", \"TSLA\", \"NVDA\", \"ADBE\", \"CRM\", \"INTC\", \"ORCL\",\n",
    "    # Finance\n",
    "    \"JPM\", \"BAC\", \"GS\", \"WFC\", \"MS\", \"AXP\", \"C\", \"BLK\", \"SCHW\", \"USB\",\n",
    "    # Energy\n",
    "    \"XOM\", \"CVX\", \"BP\", \"TTE\", \"COP\", \"PSX\", \"SLB\", \"HAL\", \"VLO\", \"MPC\",\n",
    "    # Healthcare\n",
    "    \"JNJ\", \"PFE\", \"MRK\", \"UNH\", \"LLY\", \"BMY\", \"ABBV\", \"CVS\", \"CI\", \"AMGN\",\n",
    "    # Consumer/Retail\n",
    "    \"T\", \"VZ\", \"NFLX\", \"DIS\", \"NKE\", \"KO\", \"PEP\", \"MCD\", \"LOW\", \"HD\"\n",
    "]\n"
   ]
  },
  {
   "cell_type": "code",
   "execution_count": 29,
   "id": "584e9ed3-1fb6-4290-b4d8-3dd1f6814fb7",
   "metadata": {},
   "outputs": [
    {
     "name": "stdout",
     "output_type": "stream",
     "text": [
      "Downloading AAPL...\n",
      "Downloading MSFT...\n",
      "Downloading GOOG...\n",
      "Downloading AMZN...\n",
      "Downloading TSLA...\n",
      "Downloading NVDA...\n",
      "Downloading ADBE...\n",
      "Downloading CRM...\n",
      "Downloading INTC...\n",
      "Downloading ORCL...\n",
      "Downloading JPM...\n",
      "Downloading BAC...\n",
      "Downloading GS...\n",
      "Downloading WFC...\n",
      "Downloading MS...\n",
      "Downloading AXP...\n",
      "Downloading C...\n",
      "Downloading BLK...\n",
      "Downloading SCHW...\n",
      "Downloading USB...\n",
      "Downloading XOM...\n",
      "Downloading CVX...\n",
      "Downloading BP...\n",
      "Downloading TTE...\n",
      "Downloading COP...\n",
      "Downloading PSX...\n",
      "Downloading SLB...\n",
      "Downloading HAL...\n",
      "Downloading VLO...\n",
      "Downloading MPC...\n",
      "Downloading JNJ...\n",
      "Downloading PFE...\n",
      "Downloading MRK...\n",
      "Downloading UNH...\n",
      "Downloading LLY...\n",
      "Downloading BMY...\n",
      "Downloading ABBV...\n",
      "Downloading CVS...\n",
      "Downloading CI...\n",
      "Downloading AMGN...\n",
      "Downloading T...\n",
      "Downloading VZ...\n",
      "Downloading NFLX...\n",
      "Downloading DIS...\n",
      "Downloading NKE...\n",
      "Downloading KO...\n",
      "Downloading PEP...\n",
      "Downloading MCD...\n",
      "Downloading LOW...\n",
      "Downloading HD...\n",
      "✅ Data saved to ../data/price_data_flat.csv\n"
     ]
    }
   ],
   "source": [
    "# ✅ Step 5: Define time range\n",
    "start_date = datetime.date(2015, 1, 1)\n",
    "end_date = datetime.date(2023, 12, 31)\n",
    "\n",
    "# ✅ Step 6: Download and store all data\n",
    "all_data = []\n",
    "\n",
    "for ticker in assets:\n",
    "    print(f\"Downloading {ticker}...\")\n",
    "    req = StockBarsRequest(\n",
    "        symbol_or_symbols=ticker,\n",
    "        timeframe=TimeFrame.Day,\n",
    "        start=start_date,\n",
    "        end=end_date\n",
    "    )\n",
    "    bars = client.get_stock_bars(req).df\n",
    "\n",
    "    if not bars.empty:\n",
    "        bars['Ticker'] = ticker\n",
    "        bars.reset_index(inplace=True)\n",
    "        all_data.append(bars)\n",
    "    time.sleep(1)  # prevent rate limiting\n",
    "\n",
    "# ✅ Step 7: Combine and save\n",
    "if all_data:\n",
    "    full_df = pd.concat(all_data)\n",
    "    full_df.to_csv(\"../data/price_data_flat.csv\", index=False)\n",
    "    print(\"✅ Data saved to ../data/price_data_flat.csv\")\n",
    "else:\n",
    "    print(\"❌ No data downloaded.\")\n",
    "\n",
    "\n",
    "\n",
    "\n"
   ]
  },
  {
   "cell_type": "code",
   "execution_count": 34,
   "id": "a6f811f5",
   "metadata": {},
   "outputs": [
    {
     "name": "stdout",
     "output_type": "stream",
     "text": [
      "✅ Daily returns saved to ../data/returns.csv\n"
     ]
    }
   ],
   "source": [
    "flat_df = pd.read_csv(\"../data/price_data_flat.csv\")\n",
    "\n",
    "# ✅ Step 6: Compute returns\n",
    "returns = flat_df.pivot(index='timestamp', columns='Ticker', values='close').pct_change().dropna()\n",
    "returns.to_csv(\"../data/returns.csv\")\n",
    "print(\"✅ Daily returns saved to ../data/returns.csv\")\n"
   ]
  },
  {
   "cell_type": "code",
   "execution_count": 31,
   "id": "8ed40d4f",
   "metadata": {},
   "outputs": [
    {
     "name": "stdout",
     "output_type": "stream",
     "text": [
      "✅ Sector map saved to ../data/sector_map.csv\n"
     ]
    }
   ],
   "source": [
    "\n",
    "sector_df = pd.DataFrame.from_dict(sector_map, orient='index', columns=['Sector'])\n",
    "sector_df.index.name = 'Ticker'\n",
    "sector_df.to_csv(\"../data/sector_map.csv\")\n",
    "print(\"✅ Sector map saved to ../data/sector_map.csv\")"
   ]
  },
  {
   "cell_type": "code",
   "execution_count": 32,
   "id": "2bca4af1",
   "metadata": {},
   "outputs": [
    {
     "name": "stderr",
     "output_type": "stream",
     "text": [
      "C:\\Users\\ayush\\AppData\\Local\\Temp\\ipykernel_27364\\2076018149.py:1: UserWarning: Could not infer format, so each element will be parsed individually, falling back to `dateutil`. To ensure parsing is consistent and as-expected, please specify a format.\n",
      "  price_df = pd.read_csv(\"../data/price_data_flat.csv\", index_col=0, parse_dates=True)\n"
     ]
    },
    {
     "data": {
      "text/html": [
       "<div>\n",
       "<style scoped>\n",
       "    .dataframe tbody tr th:only-of-type {\n",
       "        vertical-align: middle;\n",
       "    }\n",
       "\n",
       "    .dataframe tbody tr th {\n",
       "        vertical-align: top;\n",
       "    }\n",
       "\n",
       "    .dataframe thead th {\n",
       "        text-align: right;\n",
       "    }\n",
       "</style>\n",
       "<table border=\"1\" class=\"dataframe\">\n",
       "  <thead>\n",
       "    <tr style=\"text-align: right;\">\n",
       "      <th></th>\n",
       "      <th>timestamp</th>\n",
       "      <th>open</th>\n",
       "      <th>high</th>\n",
       "      <th>low</th>\n",
       "      <th>close</th>\n",
       "      <th>volume</th>\n",
       "      <th>trade_count</th>\n",
       "      <th>vwap</th>\n",
       "      <th>Ticker</th>\n",
       "    </tr>\n",
       "    <tr>\n",
       "      <th>symbol</th>\n",
       "      <th></th>\n",
       "      <th></th>\n",
       "      <th></th>\n",
       "      <th></th>\n",
       "      <th></th>\n",
       "      <th></th>\n",
       "      <th></th>\n",
       "      <th></th>\n",
       "      <th></th>\n",
       "    </tr>\n",
       "  </thead>\n",
       "  <tbody>\n",
       "    <tr>\n",
       "      <th>AAPL</th>\n",
       "      <td>2016-01-04 05:00:00+00:00</td>\n",
       "      <td>102.61</td>\n",
       "      <td>105.368</td>\n",
       "      <td>102.00</td>\n",
       "      <td>105.35</td>\n",
       "      <td>71935339.0</td>\n",
       "      <td>351452.0</td>\n",
       "      <td>104.007250</td>\n",
       "      <td>AAPL</td>\n",
       "    </tr>\n",
       "    <tr>\n",
       "      <th>AAPL</th>\n",
       "      <td>2016-01-05 05:00:00+00:00</td>\n",
       "      <td>105.75</td>\n",
       "      <td>105.850</td>\n",
       "      <td>102.41</td>\n",
       "      <td>102.71</td>\n",
       "      <td>58690536.0</td>\n",
       "      <td>321365.0</td>\n",
       "      <td>103.414304</td>\n",
       "      <td>AAPL</td>\n",
       "    </tr>\n",
       "    <tr>\n",
       "      <th>AAPL</th>\n",
       "      <td>2016-01-06 05:00:00+00:00</td>\n",
       "      <td>100.56</td>\n",
       "      <td>102.370</td>\n",
       "      <td>99.87</td>\n",
       "      <td>100.70</td>\n",
       "      <td>71079827.0</td>\n",
       "      <td>409164.0</td>\n",
       "      <td>100.847762</td>\n",
       "      <td>AAPL</td>\n",
       "    </tr>\n",
       "    <tr>\n",
       "      <th>AAPL</th>\n",
       "      <td>2016-01-07 05:00:00+00:00</td>\n",
       "      <td>98.68</td>\n",
       "      <td>100.130</td>\n",
       "      <td>96.43</td>\n",
       "      <td>96.45</td>\n",
       "      <td>85996453.0</td>\n",
       "      <td>462836.0</td>\n",
       "      <td>98.046209</td>\n",
       "      <td>AAPL</td>\n",
       "    </tr>\n",
       "    <tr>\n",
       "      <th>AAPL</th>\n",
       "      <td>2016-01-08 05:00:00+00:00</td>\n",
       "      <td>98.55</td>\n",
       "      <td>99.110</td>\n",
       "      <td>96.76</td>\n",
       "      <td>96.96</td>\n",
       "      <td>75066292.0</td>\n",
       "      <td>419555.0</td>\n",
       "      <td>97.916490</td>\n",
       "      <td>AAPL</td>\n",
       "    </tr>\n",
       "  </tbody>\n",
       "</table>\n",
       "</div>"
      ],
      "text/plain": [
       "                        timestamp    open     high     low   close  \\\n",
       "symbol                                                               \n",
       "AAPL    2016-01-04 05:00:00+00:00  102.61  105.368  102.00  105.35   \n",
       "AAPL    2016-01-05 05:00:00+00:00  105.75  105.850  102.41  102.71   \n",
       "AAPL    2016-01-06 05:00:00+00:00  100.56  102.370   99.87  100.70   \n",
       "AAPL    2016-01-07 05:00:00+00:00   98.68  100.130   96.43   96.45   \n",
       "AAPL    2016-01-08 05:00:00+00:00   98.55   99.110   96.76   96.96   \n",
       "\n",
       "            volume  trade_count        vwap Ticker  \n",
       "symbol                                              \n",
       "AAPL    71935339.0     351452.0  104.007250   AAPL  \n",
       "AAPL    58690536.0     321365.0  103.414304   AAPL  \n",
       "AAPL    71079827.0     409164.0  100.847762   AAPL  \n",
       "AAPL    85996453.0     462836.0   98.046209   AAPL  \n",
       "AAPL    75066292.0     419555.0   97.916490   AAPL  "
      ]
     },
     "execution_count": 32,
     "metadata": {},
     "output_type": "execute_result"
    }
   ],
   "source": [
    "price_df = pd.read_csv(\"../data/price_data_flat.csv\", index_col=0, parse_dates=True)\n",
    "price_df.head()"
   ]
  },
  {
   "cell_type": "code",
   "execution_count": null,
   "id": "161b90ed-d03d-4e5b-aa3f-fbca8a1ff5e7",
   "metadata": {},
   "outputs": [],
   "source": []
  },
  {
   "cell_type": "code",
   "execution_count": null,
   "id": "be07a1d3-fbe7-4795-bffc-2202129b8f4d",
   "metadata": {},
   "outputs": [],
   "source": []
  },
  {
   "cell_type": "code",
   "execution_count": null,
   "id": "a501ee87-b478-42c4-ae5d-71e3557cfeec",
   "metadata": {},
   "outputs": [],
   "source": []
  }
 ],
 "metadata": {
  "kernelspec": {
   "display_name": "Python 3",
   "language": "python",
   "name": "python3"
  },
  "language_info": {
   "codemirror_mode": {
    "name": "ipython",
    "version": 3
   },
   "file_extension": ".py",
   "mimetype": "text/x-python",
   "name": "python",
   "nbconvert_exporter": "python",
   "pygments_lexer": "ipython3",
   "version": "3.11.5"
  }
 },
 "nbformat": 4,
 "nbformat_minor": 5
}
